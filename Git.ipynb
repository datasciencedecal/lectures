{
 "cells": [
  {
   "cell_type": "markdown",
   "metadata": {},
   "source": [
    "# **Git**"
   ]
  },
  {
   "cell_type": "markdown",
   "metadata": {},
   "source": [
    "Fill this out for free Datacamp! [DataCamp](https://docs.google.com/forms/u/1/d/e/1FAIpQLSfNpNMxohIN8zXEbiRJoePxR2CxTtBKVQUu788HjS2sJFptQQ/viewform)"
   ]
  },
  {
   "cell_type": "markdown",
   "metadata": {},
   "source": [
    "## Some Prerequisites"
   ]
  },
  {
   "cell_type": "markdown",
   "metadata": {},
   "source": [
    "Before we start, make sure you have **Git** and **Atom** installed."
   ]
  },
  {
   "cell_type": "markdown",
   "metadata": {},
   "source": [
    "If you are on Mac, you will most likely have it already installed. Run the following command on terminal to check: "
   ]
  },
  {
   "cell_type": "markdown",
   "metadata": {},
   "source": [
    "`git --version`"
   ]
  },
  {
   "cell_type": "markdown",
   "metadata": {},
   "source": [
    "If you are on Windows, see: [Git for Windows](https://gitforwindows.org/)"
   ]
  },
  {
   "cell_type": "markdown",
   "metadata": {},
   "source": [
    "If you are on Linux, see: [Git for Linux](https://git-scm.com/download/linux)"
   ]
  },
  {
   "cell_type": "markdown",
   "metadata": {},
   "source": [
    "Next, install **Atom**: [Atom](https://atom.io/)"
   ]
  },
  {
   "cell_type": "markdown",
   "metadata": {},
   "source": [
    "# What is Git?\n",
    "<hr>"
   ]
  },
  {
   "cell_type": "markdown",
   "metadata": {},
   "source": [
    "If you've used Google Docs before, you're already familiar with a version control system for editing files. In Google Docs, you can go back to the history of versions for a document, and easily restore a prior version if you make a lot of unwanted changes. Google Docs even tells you who edited which portions of each version, so you can contact the right people for large documents.\n",
    "\n",
    "Git is also a version control program, but is much older and more versatile. Whereas Google Docs stores version history for specific documents, Git stores version history for entire projects (known as Git <b>repositories </b>). Unlike Google Docs, Git allows you to make <b>branches</b>, or named working versions of a project, and you can quickly switch between them, remotely or locally. This <i>branching</i> feature is illustrated by the Git logo: "
   ]
  },
  {
   "cell_type": "markdown",
   "metadata": {},
   "source": [
    "![](git-logo.png)"
   ]
  },
  {
   "cell_type": "markdown",
   "metadata": {},
   "source": [
    "## A quick example\n",
    "To give you a more concrete idea of what branching is used for, here's an illustrative example.\n",
    "\n",
    "Suppose you and your friend are working on a state-of-the-art Kaggle model. You have been working with your friend to make a basic model, storing it in the default Git branch, `master`. Now, you and your friend have a couple of different ideas on how to improve it further. You both want to start working on making a better model, and then compare which prototype performs better, but you don't want to get in the way of each other's work. So, you make a branch named `xg_boost`, and your friend makes a branch named `clockwork_rnn`. That way, both of you can independently work off of the same base code, without overwriting or affecting each other's branches."
   ]
  },
  {
   "cell_type": "markdown",
   "metadata": {},
   "source": [
    "If your model proves to be superior, you can merge your `xg_boost` branch into the `master` branch, and you can both work off of your new model. Alternatively, if your friend's model performs better, they can merge their `clockwork_rnn` branch into the `master` branch and you and your friend can work on that new model together. As one last possibility, suppose neither the `xg_boost` model nor the `clockwork_rnn` model outperform the model in the master branch. Then, you can both easily switch back to the `master` branch with a single command, and try new ideas without skipping a beat. This is the value of Git, especially for complex or group projects."
   ]
  },
  {
   "cell_type": "markdown",
   "metadata": {},
   "source": [
    "## Advantages"
   ]
  },
  {
   "cell_type": "markdown",
   "metadata": {
    "ExecuteTime": {
     "end_time": "2018-09-17T12:13:51.321786Z",
     "start_time": "2018-09-17T12:13:51.185480Z"
    }
   },
   "source": [
    "- Distributed Version control\n",
    "- Coordinate work between multiple developers (track precisely who made what changes and when)\n",
    "- Revert back to any point of progress at any time"
   ]
  },
  {
   "cell_type": "markdown",
   "metadata": {},
   "source": [
    "# Git vs GitHub\n",
    "<hr>\n",
    "`git` is the command-line program that allows you to make use of the Git version control system. However, Git operates by default locally - that is, just offline on your computer. In order to actually share your code with others, you have to use a service like <b>Github</b> or <b>Bitbucket</b>. They both work very similarily, and basically allow you to upload your code to an online <i>repository</i> in the cloud.\n",
    "\n",
    "The standard workflow is to work on your code locally, using `git` for version control, but when you want to <b>push</b> the latest functioning version of your code, you can upload it to the cloud maintained by Github/Bitbucket. Then, even friends who aren't located nearby geographically can <b>pull</b> your online code to their local computers, and work on your project remotely, pushing their own updates when needed."
   ]
  },
  {
   "cell_type": "markdown",
   "metadata": {},
   "source": [
    "# Installing Git\n",
    "<hr>\n",
    "You can install Git by visiting this link to [Downloads](https://git-scm.com/downloads) of the official [Git Website](https://git-scm.com/)"
   ]
  },
  {
   "cell_type": "markdown",
   "metadata": {
    "ExecuteTime": {
     "end_time": "2018-09-03T16:01:02.199470Z",
     "start_time": "2018-09-03T16:01:02.150545Z"
    }
   },
   "source": [
    "# Using Git Locally\n",
    "<hr>\n",
    "We are now going to dive into how to use `git`! Don't worry, there are just a few basic commands, and once you get used to the workflow, it will feel painless and natural."
   ]
  },
  {
   "cell_type": "markdown",
   "metadata": {},
   "source": [
    "## Identity"
   ]
  },
  {
   "cell_type": "markdown",
   "metadata": {},
   "source": [
    "The first thing you should do when you install Git is to set your user name and email address."
   ]
  },
  {
   "cell_type": "markdown",
   "metadata": {},
   "source": [
    "`git config --global user.name \"John Doe\"`"
   ]
  },
  {
   "cell_type": "markdown",
   "metadata": {},
   "source": [
    "`git config --global user.email johndoe@example.com`"
   ]
  },
  {
   "cell_type": "markdown",
   "metadata": {},
   "source": [
    "## `git init`"
   ]
  },
  {
   "cell_type": "markdown",
   "metadata": {},
   "source": [
    "First, we're going to learn how to actually make a <b>Git repository</b>. A <i>repository</i> (aka repo) is essentially a folder/directory that you specially indicate as being attached to a version control system. First, let's make a demo folder and copy some files into it: "
   ]
  },
  {
   "cell_type": "markdown",
   "metadata": {},
   "source": [
    "`cd ~`"
   ]
  },
  {
   "cell_type": "markdown",
   "metadata": {},
   "source": [
    "`mkdir git-workshop && cd git-workshop`\n"
   ]
  },
  {
   "cell_type": "markdown",
   "metadata": {},
   "source": [
    "`echo \"Hello World\" > hello.txt`\n"
   ]
  },
  {
   "cell_type": "markdown",
   "metadata": {
    "ExecuteTime": {
     "end_time": "2018-09-03T16:08:44.231764Z",
     "start_time": "2018-09-03T16:08:44.200901Z"
    }
   },
   "source": [
    "To initialize a directory as a repo, navigate to the folder in question and run:"
   ]
  },
  {
   "cell_type": "markdown",
   "metadata": {
    "ExecuteTime": {
     "end_time": "2018-09-03T16:09:01.918196Z",
     "start_time": "2018-09-03T16:09:01.909642Z"
    }
   },
   "source": [
    "`git init`"
   ]
  },
  {
   "cell_type": "markdown",
   "metadata": {},
   "source": [
    "## `git status, git add` and `git commit`"
   ]
  },
  {
   "cell_type": "markdown",
   "metadata": {},
   "source": [
    "Now, let's record our files into the version control system. "
   ]
  },
  {
   "cell_type": "markdown",
   "metadata": {},
   "source": [
    "`git status`"
   ]
  },
  {
   "cell_type": "markdown",
   "metadata": {},
   "source": [
    "This command should show that the file `hello.txt` is untracked. In order to have Git control this file, we use `git add`"
   ]
  },
  {
   "cell_type": "markdown",
   "metadata": {},
   "source": [
    "`git add` will tell Git to track your files, or prime them to be \"stamped\" as a major step in development later in the `git commit` step. You usually just `add` the files that have changed since the last `commit`, or just the files that you want to track. Alternatively, you can `add` all the files that are in your repo with the `-A` option argument. Let's add all our files to be tracked."
   ]
  },
  {
   "cell_type": "markdown",
   "metadata": {},
   "source": [
    "`git add -A`"
   ]
  },
  {
   "cell_type": "markdown",
   "metadata": {},
   "source": [
    "`git commit` is then used to make a named record of your work so far. All commits require a message to be attached, to describe what's changed since the last version. If you simply run `git commit`, Git will automatically open up your default command-line text editor to force you to enter a message, which can be a pain to work with. For quick messages, you can use the `-m` option command to give a message as a string. Let's commit our newly `add`ed files:"
   ]
  },
  {
   "cell_type": "markdown",
   "metadata": {},
   "source": [
    "`git commit -m \"My first commit\"`"
   ]
  },
  {
   "cell_type": "markdown",
   "metadata": {},
   "source": [
    "As you can see, we've successfully tracked and committed the file that we added to the empty repo.\n"
   ]
  },
  {
   "cell_type": "markdown",
   "metadata": {},
   "source": [
    "## `git branch` and `git merge`"
   ]
  },
  {
   "cell_type": "markdown",
   "metadata": {},
   "source": [
    "Now, we're going to give a brief illustration of how to use Git's branching mechanism. Let's make a new <i>branch</i>, edit a file, and then <i>merge<i> that branch back into the `master` branch."
   ]
  },
  {
   "cell_type": "markdown",
   "metadata": {},
   "source": [
    "To open a new Git branch, use `git checkout -b <new_branch_name>`. Let's make a branch called `dev`.\n"
   ]
  },
  {
   "cell_type": "markdown",
   "metadata": {},
   "source": [
    "`cd ~/git-workshop`"
   ]
  },
  {
   "cell_type": "markdown",
   "metadata": {},
   "source": [
    "`git checkout -b dev\n",
    "`"
   ]
  },
  {
   "cell_type": "markdown",
   "metadata": {},
   "source": [
    "If you run `git branch` without any arguments, Git will display all the branches currently associated with this repo. What are all the branches in our case?"
   ]
  },
  {
   "cell_type": "markdown",
   "metadata": {},
   "source": [
    "`* dev`"
   ]
  },
  {
   "cell_type": "markdown",
   "metadata": {},
   "source": [
    "`master`"
   ]
  },
  {
   "cell_type": "markdown",
   "metadata": {},
   "source": [
    "Notice the `*` next to the `dev` branch - this indicates we are now on the `dev` branch, to switch back to  `master`, we use `git checkout master`\n"
   ]
  },
  {
   "cell_type": "markdown",
   "metadata": {},
   "source": [
    "Now, we're ready to make some changes without it affecting our `master` branch. Let's rewrite the contents of `hello.txt`."
   ]
  },
  {
   "cell_type": "markdown",
   "metadata": {},
   "source": [
    "`echo \"Hello, Berkeley\" > hello.txt `"
   ]
  },
  {
   "cell_type": "markdown",
   "metadata": {},
   "source": [
    "Let's `add` and `commit` our changes. A quick shortcut to do this is the `-a` option argument of `git commit`, which automatically adds all changed files, and then commits them."
   ]
  },
  {
   "cell_type": "markdown",
   "metadata": {},
   "source": [
    "`git commit -am \"changed hello\"` <-- \"-am\" is the same as doing \"-a\" and \"-m\""
   ]
  },
  {
   "cell_type": "markdown",
   "metadata": {},
   "source": [
    "If we `cat` (display the contents of) the `hello.txt` file in our `dev `branch, we see that it has in fact be overwritten:\n"
   ]
  },
  {
   "cell_type": "markdown",
   "metadata": {},
   "source": [
    "`cat hello.txt`"
   ]
  },
  {
   "cell_type": "markdown",
   "metadata": {},
   "source": [
    "However, if we switch back to the `master` branch, we find that our old version of `hello.txt` is still available once we're on that branch."
   ]
  },
  {
   "cell_type": "markdown",
   "metadata": {},
   "source": [
    "`git checkout master`"
   ]
  },
  {
   "cell_type": "markdown",
   "metadata": {},
   "source": [
    "`cat hello.txt`"
   ]
  },
  {
   "cell_type": "markdown",
   "metadata": {},
   "source": [
    "Suppose we're satisfied with our work in the `dev`, and now want to officiate it by merging it back with the `master` branch. To do this, we use the `git merge` command. The syntax `git merge <branch>` will merge the `<branch>` branch with the branch you are currently on. Right now, we're on the master branch <i>(Quiz: how do we know that we are currently on `master`? How can we double-check which branch we are on?)</i>, so we run the following command to merge our `dev` branch with the `master` branch:"
   ]
  },
  {
   "cell_type": "markdown",
   "metadata": {},
   "source": [
    "`git merge dev`"
   ]
  },
  {
   "cell_type": "markdown",
   "metadata": {},
   "source": [
    "<i>(Notice the `Fast-forward` description to this merge - there are several types of merges Git uses, and this one is the most basic - we simply fast-forward to the changes of the `dev` branch. You can learn about the other types of merges in the section below.)</i>"
   ]
  },
  {
   "cell_type": "markdown",
   "metadata": {},
   "source": [
    "Normally in our workflow, after we have merged the contents of our branch to `master` we can delete the branch:<br>\n",
    "` git branch -d dev `"
   ]
  },
  {
   "cell_type": "markdown",
   "metadata": {},
   "source": [
    "# Using Git Remotely\n",
    "<hr>\n",
    "Now that we've covered the basics of how Git works locally, let's make use of it's cloud-interfacing abilities. First, let's `push` our local `git-workshop` `master` branch to Github. We must first make an empty <b>Github</b> remote repository on the Github website, then `push` our local repo onto it."
   ]
  },
  {
   "cell_type": "markdown",
   "metadata": {},
   "source": [
    "## `git push`"
   ]
  },
  {
   "cell_type": "markdown",
   "metadata": {},
   "source": [
    "`git push` has a very simple syntax for pushing local repositories to remote repositories - `git push <remote_repo_url> <local_branch_name>` will push the `<local_branch_name>` branch into the remote repository at `<remote_repo_url>`. (By default, if no `<local_branch_name>` is given, the default is the current branch) Let's push our `git-workshops`'s `master` branch into the remote `git-demo` repository:"
   ]
  },
  {
   "cell_type": "markdown",
   "metadata": {},
   "source": [
    "First, we must tell Git to push commits to our repository on GitHub. In order to do so, set up a **remote** as follows:"
   ]
  },
  {
   "cell_type": "markdown",
   "metadata": {},
   "source": [
    "We can call the remote repository whatever we like; normally we refer to it as ` origin `"
   ]
  },
  {
   "cell_type": "markdown",
   "metadata": {},
   "source": [
    "`git remote add origin {repository URL}`"
   ]
  },
  {
   "cell_type": "markdown",
   "metadata": {},
   "source": [
    "Now you can run:"
   ]
  },
  {
   "cell_type": "markdown",
   "metadata": {},
   "source": [
    "`git push origin master`"
   ]
  },
  {
   "cell_type": "markdown",
   "metadata": {
    "ExecuteTime": {
     "end_time": "2018-09-03T16:59:46.318812Z",
     "start_time": "2018-09-03T16:59:46.249755Z"
    }
   },
   "source": [
    "## `git pull`"
   ]
  },
  {
   "cell_type": "markdown",
   "metadata": {},
   "source": [
    "Finally, we're going to cover the other command for working with remote repositories, `git pull`. To `fetch` and automatically `merge` any changes in the remote repo that aren't yet in your local repo, use the syntax `git pull <remote_repo_url> <remote_branch_name>`. (Again, by default if no `<remote_branch_name>` is specified, Git will try to guess which branch is associated with your current branch). Let's `pull` from our remote repository in case any changes have been made to it that we aren't aware of locally."
   ]
  },
  {
   "cell_type": "markdown",
   "metadata": {},
   "source": [
    "Let's simulate a second developer \"pushing\" to our branch by creating a file on github"
   ]
  },
  {
   "cell_type": "markdown",
   "metadata": {},
   "source": [
    "`cd ~/git-workshop`"
   ]
  },
  {
   "cell_type": "markdown",
   "metadata": {},
   "source": [
    "`git pull origin master`"
   ]
  },
  {
   "cell_type": "markdown",
   "metadata": {},
   "source": [
    "Now when we ` pull ` from ` origin ` we should see the new file in our local directory"
   ]
  },
  {
   "cell_type": "markdown",
   "metadata": {},
   "source": [
    "## `git clone`"
   ]
  },
  {
   "cell_type": "markdown",
   "metadata": {},
   "source": [
    "An alternative to making a local repo and then pulling remote files to it is to `clone` a remote repo directly as a new local repo on your computer. The `git clone` syntax is as follows: `git clone <remote_repo_url> <local_repo_name>`. (By default, if no `<local_repo_name>` is specified, Git will give the local repo the same name as the remote repo)."
   ]
  },
  {
   "cell_type": "markdown",
   "metadata": {},
   "source": [
    "To `clone` all of the [SUSA crash-course tutorials](https://github.com/SUSA-org/crash-course) (including this one!) to your computer, run the following command in whichever directory you want to store the repo in:"
   ]
  },
  {
   "cell_type": "markdown",
   "metadata": {},
   "source": [
    "`cd ~`"
   ]
  },
  {
   "cell_type": "markdown",
   "metadata": {},
   "source": [
    "`mkdir susa-crash-course && cd susa-crash-course`"
   ]
  },
  {
   "cell_type": "markdown",
   "metadata": {},
   "source": [
    "`git clone https://github.com/SUSA-org/crash-course.git `"
   ]
  },
  {
   "cell_type": "markdown",
   "metadata": {},
   "source": [
    "# Merge Conflicts"
   ]
  },
  {
   "cell_type": "markdown",
   "metadata": {},
   "source": [
    "Scenario: you are working with a friend on a repository (on GitHub). You update a file on your branch, `dev`, and try to merge it into `master`, but your friend already updated the file there!\n",
    "\n",
    "Git now has two commits (versions) of your files: one that you are trying to update and push to `master`, and one that was already pushed to `master` when you were working! This is called a **merge conflict**."
   ]
  },
  {
   "cell_type": "markdown",
   "metadata": {},
   "source": [
    "![](merge-conflict.png)"
   ]
  },
  {
   "cell_type": "markdown",
   "metadata": {},
   "source": [
    "Let's create this scenario: "
   ]
  },
  {
   "cell_type": "markdown",
   "metadata": {},
   "source": [
    "Simulate someone else making a change to the ` hello.txt ` through Github and commit those changes"
   ]
  },
  {
   "cell_type": "markdown",
   "metadata": {},
   "source": [
    "Now let's change ` hello.txt ` in a different way locally and commit these changes"
   ]
  },
  {
   "cell_type": "markdown",
   "metadata": {},
   "source": [
    "When you try to push, you should see:"
   ]
  },
  {
   "cell_type": "markdown",
   "metadata": {},
   "source": [
    "` Updates were rejected because the remote contains work that you do not have locally `"
   ]
  },
  {
   "cell_type": "markdown",
   "metadata": {
    "ExecuteTime": {
     "end_time": "2018-09-11T15:47:59.228243Z",
     "start_time": "2018-09-11T15:47:59.049348Z"
    }
   },
   "source": [
    "To fix this, we must ` git pull origin master ` first"
   ]
  },
  {
   "cell_type": "markdown",
   "metadata": {},
   "source": [
    "Now you should see:"
   ]
  },
  {
   "cell_type": "markdown",
   "metadata": {},
   "source": [
    "`Auto-merging hello.txt `"
   ]
  },
  {
   "cell_type": "markdown",
   "metadata": {},
   "source": [
    "`CONFLICT (content): Merge conflict in hello.txt`"
   ]
  },
  {
   "cell_type": "markdown",
   "metadata": {},
   "source": [
    "`Automatic merge failed; fix conflicts and then commit the result.\n",
    "`"
   ]
  },
  {
   "cell_type": "markdown",
   "metadata": {},
   "source": [
    "Anything between ` HEAD ` and the equal signs is what you currently have and below is what you are comparing with, to fix the merge conflict, you keep whichever line or whatever variation of the line that is corrext and then you delete everything else created"
   ]
  },
  {
   "cell_type": "markdown",
   "metadata": {},
   "source": [
    "**Atom** has very good support for merge conflicts. Open your `git-workshop` repository in Atom, manually or by using the following command:"
   ]
  },
  {
   "cell_type": "markdown",
   "metadata": {},
   "source": [
    "`cd ~/git-workshop`"
   ]
  },
  {
   "cell_type": "markdown",
   "metadata": {},
   "source": [
    "`atom .`"
   ]
  },
  {
   "cell_type": "markdown",
   "metadata": {},
   "source": [
    "After you're done fixing the merge conflict, run:"
   ]
  },
  {
   "cell_type": "markdown",
   "metadata": {},
   "source": [
    "`git commit -am \"fixed merge\"`"
   ]
  },
  {
   "cell_type": "markdown",
   "metadata": {},
   "source": [
    "`git push origin master `"
   ]
  },
  {
   "cell_type": "markdown",
   "metadata": {},
   "source": [
    "## ` .gitignore `"
   ]
  },
  {
   "cell_type": "markdown",
   "metadata": {},
   "source": [
    "Sometimes we do not want to track certain files such as log files or default files created by IDEs, to ignore these types of files, we create a .gitignore file:"
   ]
  },
  {
   "cell_type": "markdown",
   "metadata": {},
   "source": [
    "` touch test.log `"
   ]
  },
  {
   "cell_type": "markdown",
   "metadata": {
    "ExecuteTime": {
     "end_time": "2018-09-11T15:58:33.638321Z",
     "start_time": "2018-09-11T15:58:33.557379Z"
    }
   },
   "source": [
    "We have created a log file we do not want to track, if we run ` git status `, we see that git marks it as untracked"
   ]
  },
  {
   "cell_type": "markdown",
   "metadata": {},
   "source": [
    "` echo \"*.log\" > .gitignore `"
   ]
  },
  {
   "cell_type": "markdown",
   "metadata": {},
   "source": [
    "Here we create a .gitignore file, and tell it to ignore all files ending with `.log,` now we must ` add ` and ` commit ` this file"
   ]
  },
  {
   "cell_type": "markdown",
   "metadata": {},
   "source": [
    "`git add .gitignore`"
   ]
  },
  {
   "cell_type": "markdown",
   "metadata": {},
   "source": [
    "`git commit -m \"adding git ignore\"`"
   ]
  },
  {
   "cell_type": "markdown",
   "metadata": {},
   "source": [
    "## ` git reset `"
   ]
  },
  {
   "cell_type": "markdown",
   "metadata": {},
   "source": [
    "Say we make a mistake and want to revert our changes to a previous commit."
   ]
  },
  {
   "cell_type": "markdown",
   "metadata": {},
   "source": [
    "` echo \"Hello, Stanford\" > hello.txt `"
   ]
  },
  {
   "cell_type": "markdown",
   "metadata": {},
   "source": [
    "if we haven't added and committed these changes yet we can simply type:"
   ]
  },
  {
   "cell_type": "markdown",
   "metadata": {},
   "source": [
    "` git checkout -- hello.txt ` ( can use .  to revert everything in directory)"
   ]
  },
  {
   "cell_type": "markdown",
   "metadata": {},
   "source": [
    "cat the contents of ` hello.txt ` to see that it is back to normal"
   ]
  },
  {
   "cell_type": "markdown",
   "metadata": {},
   "source": [
    "Lets consider the case where we have accidently added and committed the file, use ` git log ` to see the unique identifier of the commit you want to revert to and then use ` git reset --hard ` to go back."
   ]
  },
  {
   "cell_type": "markdown",
   "metadata": {
    "ExecuteTime": {
     "end_time": "2018-09-11T17:40:33.539985Z",
     "start_time": "2018-09-11T17:40:33.328870Z"
    }
   },
   "source": [
    "`git log`"
   ]
  },
  {
   "cell_type": "markdown",
   "metadata": {},
   "source": [
    "`git reset --hard \"commit_id\" `"
   ]
  },
  {
   "cell_type": "markdown",
   "metadata": {},
   "source": [
    "Be careful, with `git reset --hard` because it is a destructive command and you can not go back."
   ]
  },
  {
   "cell_type": "markdown",
   "metadata": {},
   "source": [
    "# Additional Readings\n",
    "<hr>\n",
    "<ul>\n",
    "  <li>For more information on the command-line shell, visit the [Linux Command Line Guide](http://linuxcommand.org/lc3_learning_the_shell.php)</li>\n",
    "  <li>For more information on how to use Git, visit the official [Pro Git Book](https://git-scm.com/book/en/v2)</li>\n",
    "  <li>There is also a Git quick-guide cheatsheet, available [here](https://services.github.com/on-demand/downloads/github-git-cheat-sheet.pdf)</li>\n",
    "</ul>"
   ]
  }
 ],
 "metadata": {
  "kernelspec": {
   "display_name": "Python 3",
   "language": "python",
   "name": "python3"
  },
  "language_info": {
   "codemirror_mode": {
    "name": "ipython",
    "version": 3
   },
   "file_extension": ".py",
   "mimetype": "text/x-python",
   "name": "python",
   "nbconvert_exporter": "python",
   "pygments_lexer": "ipython3",
   "version": "3.6.0"
  }
 },
 "nbformat": 4,
 "nbformat_minor": 2
}
